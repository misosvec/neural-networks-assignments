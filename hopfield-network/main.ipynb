{
 "cells": [
  {
   "cell_type": "markdown",
   "id": "f234ced8",
   "metadata": {},
   "source": [
    "### Install required dependencies"
   ]
  },
  {
   "cell_type": "code",
   "execution_count": null,
   "id": "dc625eba",
   "metadata": {},
   "outputs": [],
   "source": [
    "!pip install numpy"
   ]
  },
  {
   "cell_type": "markdown",
   "id": "69761c4c",
   "metadata": {},
   "source": [
    "### Load dataset"
   ]
  },
  {
   "cell_type": "code",
   "execution_count": 4,
   "id": "fdf243fd",
   "metadata": {},
   "outputs": [
    {
     "name": "stdout",
     "output_type": "stream",
     "text": [
      "[-1.  1. -1. -1. -1.  1. -1. -1. -1.  1. -1.  1. -1. -1. -1. -1. -1.  1.\n",
      " -1. -1. -1. -1. -1.  1. -1.  1. -1. -1. -1.  1. -1. -1. -1.  1. -1.]\n",
      "[-1.  1. -1. -1. -1.  1. -1. -1.  1. -1. -1. -1.  1. -1. -1.  1.  1.  1.\n",
      "  1.  1. -1. -1.  1. -1. -1. -1.  1. -1. -1.  1. -1. -1. -1.  1. -1.]\n",
      "[-1. -1.  1.  1.  1. -1. -1. -1.  1. -1. -1. -1.  1. -1. -1.  1. -1. -1.\n",
      " -1.  1. -1. -1.  1. -1. -1. -1.  1. -1. -1. -1.  1.  1.  1. -1. -1.]\n",
      "[-1.  1.  1.  1.  1.  1. -1. -1. -1. -1. -1.  1. -1. -1. -1. -1. -1.  1.\n",
      " -1. -1. -1. -1. -1.  1. -1. -1. -1. -1. -1.  1.  1.  1.  1.  1. -1.]\n"
     ]
    }
   ],
   "source": [
    "import numpy as np\n",
    "\n",
    "# I took the function from tutorials\n",
    "def prepare_data(filename):\n",
    "    patterns = []\n",
    "    with open(filename) as f:\n",
    "        count, width, height = [int(x) for x in f.readline().split()] # header\n",
    "        dim = width*height\n",
    "\n",
    "        for _ in range(count):\n",
    "            f.readline() # skip empty line\n",
    "            x = np.empty((height, width))\n",
    "            for r in range(height):\n",
    "                x[r,:] = np.array(list(f.readline().strip())) == '#'\n",
    "            patterns.append(2*x.flatten()-1) # flatten to 1D vector, rescale {0,1} -> {-1,+1}\n",
    "    \n",
    "    return patterns, dim\n",
    "\n",
    "patterns, dim = prepare_data('data.in')\n",
    "\n",
    "for p in patterns:\n",
    "    print(p)"
   ]
  },
  {
   "cell_type": "markdown",
   "id": "d7556cc4",
   "metadata": {},
   "source": [
    "### Train hopfield"
   ]
  },
  {
   "cell_type": "code",
   "execution_count": null,
   "id": "789f88fb",
   "metadata": {},
   "outputs": [],
   "source": []
  }
 ],
 "metadata": {
  "kernelspec": {
   "display_name": "Python 3",
   "language": "python",
   "name": "python3"
  },
  "language_info": {
   "codemirror_mode": {
    "name": "ipython",
    "version": 3
   },
   "file_extension": ".py",
   "mimetype": "text/x-python",
   "name": "python",
   "nbconvert_exporter": "python",
   "pygments_lexer": "ipython3",
   "version": "3.9.6"
  }
 },
 "nbformat": 4,
 "nbformat_minor": 5
}
