{
 "cells": [
  {
   "cell_type": "markdown",
   "metadata": {},
   "source": [
    "### Install required libraries"
   ]
  },
  {
   "cell_type": "code",
   "execution_count": 1,
   "metadata": {},
   "outputs": [],
   "source": [
    "# %pip install -r requirements.txt"
   ]
  },
  {
   "cell_type": "markdown",
   "metadata": {},
   "source": [
    "### Prepare data"
   ]
  },
  {
   "cell_type": "code",
   "execution_count": 2,
   "metadata": {},
   "outputs": [
    {
     "name": "stdout",
     "output_type": "stream",
     "text": [
      "X_train shape (6401, 2)\n",
      "X_val shape (1599, 2)\n",
      "X_test shape (2000, 2)\n"
     ]
    }
   ],
   "source": [
    "import numpy as np\n",
    "from utils import onehot_encode\n",
    "\n",
    "\n",
    "def stratified_split(val_ratio, data):\n",
    "    classes = np.unique(data['target'])\n",
    "\n",
    "    train_indices = []\n",
    "    val_indices = []\n",
    "\n",
    "    for cls in classes:\n",
    "\n",
    "        cls_indices = np.where(data['target'] == cls)[0]\n",
    "\n",
    "        # random state for reproducibility\n",
    "        rng = np.random.RandomState(seed=1318)\n",
    "        cls_indices = rng.permutation(cls_indices)        \n",
    "        val_size = int(len(cls_indices) * val_ratio)\n",
    "        val_cls_indices = cls_indices[:val_size]\n",
    "        train_cls_indices = cls_indices[val_size:]\n",
    "        \n",
    "        val_indices.extend(val_cls_indices)\n",
    "        train_indices.extend(train_cls_indices)\n",
    "\n",
    "    \n",
    "    train_split = data[train_indices]\n",
    "    val_split = data[val_indices]\n",
    "    return train_split, val_split\n",
    "\n",
    "def z_score_normmalize(x):\n",
    "    mean = np.mean(x, axis=0)\n",
    "    std = np.std(x, axis=0)\n",
    "    x = (x - mean) / std\n",
    "    return x\n",
    "\n",
    "data = np.loadtxt(\n",
    "    'dataset/2d.trn.dat', \n",
    "    skiprows=1,\n",
    "    dtype=[('x', float), ('y', float), ('target', 'U1')]\n",
    ")\n",
    "\n",
    "test_data = np.loadtxt(\n",
    "    'dataset/2d.tst.dat', \n",
    "    skiprows=1,\n",
    "    dtype=[('x', float), ('y', float), ('target', 'U1')]\n",
    ")\n",
    "\n",
    "train_data, val_data = stratified_split(0.2, data)\n",
    "\n",
    "X_train = z_score_normmalize(np.column_stack((train_data['x'], train_data['y'])))\n",
    "y_train = onehot_encode(train_data['target'])\n",
    "\n",
    "X_val = z_score_normmalize(np.column_stack((val_data['x'], val_data['y'])))\n",
    "y_val = onehot_encode(val_data['target'])\n",
    "\n",
    "X_test = z_score_normmalize(np.column_stack((test_data['x'], test_data['y'])))\n",
    "y_test = onehot_encode(test_data['target'])\n",
    "\n",
    "print(f\"X_train shape {X_train.shape}\")\n",
    "print(f\"X_val shape {X_val.shape}\")\n",
    "print(f\"X_test shape {X_test.shape}\")"
   ]
  },
  {
   "cell_type": "markdown",
   "metadata": {},
   "source": [
    "## Train Neural Network"
   ]
  },
  {
   "cell_type": "code",
   "execution_count": null,
   "metadata": {},
   "outputs": [],
   "source": [
    "from neural_network import NeuralNetwork, Layer, ActivationFunction\n",
    "from utils import compute_accuracy\n",
    "\n",
    "\n",
    "nn = NeuralNetwork(\n",
    "    layers=[\n",
    "        Layer(ActivationFunction.relu, 12, input_dim=2),\n",
    "        Layer(ActivationFunction.relu, 8),\n",
    "        Layer(ActivationFunction.softmax, 3),\n",
    "    ]\n",
    ")\n",
    "\n",
    "    \n",
    "train_losses, val_losses = nn.train(X_train.T, y_train.T, lr=0.05, epochs=1000, X_val=X_val.T, y_val=y_val.T)\n",
    "pred = nn.predict(X_test)\n",
    "print(compute_accuracy(y_test.T, pred))"
   ]
  },
  {
   "cell_type": "code",
   "execution_count": null,
   "metadata": {},
   "outputs": [],
   "source": [
    "from matplotlib import pyplot as plt\n",
    "\n",
    "plt.subplot(1, 1, 1)\n",
    "plt.plot(train_losses,label='train')\n",
    "plt.plot(val_losses, label='val')\n",
    "plt.xlabel('Epoch')\n",
    "plt.ylabel('Loss')\n",
    "plt.title('Loss vs Epoch')\n",
    "plt.legend()"
   ]
  },
  {
   "cell_type": "code",
   "execution_count": null,
   "metadata": {},
   "outputs": [
    {
     "name": "stdout",
     "output_type": "stream",
     "text": [
      "1000\n",
      "0\n"
     ]
    }
   ],
   "source": [
    "print(len(train_losses))\n",
    "print(len(val_losses))"
   ]
  }
 ],
 "metadata": {
  "kernelspec": {
   "display_name": "Python 3",
   "language": "python",
   "name": "python3"
  },
  "language_info": {
   "codemirror_mode": {
    "name": "ipython",
    "version": 3
   },
   "file_extension": ".py",
   "mimetype": "text/x-python",
   "name": "python",
   "nbconvert_exporter": "python",
   "pygments_lexer": "ipython3",
   "version": "3.9.6"
  }
 },
 "nbformat": 4,
 "nbformat_minor": 2
}
