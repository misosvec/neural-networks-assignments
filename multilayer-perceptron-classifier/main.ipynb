{
 "cells": [
  {
   "cell_type": "markdown",
   "metadata": {},
   "source": [
    "### Install required libraries"
   ]
  },
  {
   "cell_type": "code",
   "execution_count": null,
   "metadata": {},
   "outputs": [],
   "source": [
    "%pip install -r requirements.txt"
   ]
  },
  {
   "cell_type": "markdown",
   "metadata": {},
   "source": [
    "### Prepare data"
   ]
  },
  {
   "cell_type": "code",
   "execution_count": null,
   "metadata": {},
   "outputs": [],
   "source": [
    "import numpy as np\n",
    "from utils import onehot_encode\n",
    "\n",
    "def stratified_split(val_ratio, data):\n",
    "    classes = np.unique(data['target'])\n",
    "\n",
    "    train_indices = []\n",
    "    val_indices = []\n",
    "\n",
    "    for cls in classes:\n",
    "\n",
    "        cls_indices = np.where(data['target'] == cls)[0]\n",
    "        print(f\"cls is {cls}, cls_indices is {len(cls_indices)}\")\n",
    "        # random state for reproducibility\n",
    "        rng = np.random.RandomState(seed=148)\n",
    "        cls_indices = rng.permutation(cls_indices)        \n",
    "        val_size = int(len(cls_indices) * val_ratio)\n",
    "        val_cls_indices = cls_indices[:val_size]\n",
    "        train_cls_indices = cls_indices[val_size:]\n",
    "        \n",
    "        val_indices.extend(val_cls_indices)\n",
    "        train_indices.extend(train_cls_indices)\n",
    "\n",
    "    train_split = data[train_indices]\n",
    "    val_split = data[val_indices]\n",
    "    return train_split, val_split\n",
    "\n",
    "data = np.loadtxt(\n",
    "    'dataset/2d.trn.dat', \n",
    "    skiprows=1,\n",
    "    dtype=[('x', float), ('y', float), ('target', 'U1')]\n",
    ")\n",
    "\n",
    "test_data = np.loadtxt(\n",
    "    'dataset/2d.tst.dat', \n",
    "    skiprows=1,\n",
    "    dtype=[('x', float), ('y', float), ('target', 'U1')]\n",
    ")\n",
    "\n",
    "def normalize(x, mean, std):\n",
    "    return (x-mean)/std\n",
    "\n",
    "train_data, val_data = stratified_split(0.2, data)\n",
    "\n",
    "X_train_raw = np.column_stack((train_data['x'], train_data['y']))\n",
    "X_val_raw = np.column_stack((val_data['x'], val_data['y']))\n",
    "X_test_raw = np.column_stack((test_data['x'], test_data['y']))\n",
    "\n",
    "y_train = onehot_encode(train_data['target']).T\n",
    "y_val = onehot_encode(val_data['target']).T\n",
    "y_test = onehot_encode(test_data['target']).T\n",
    "\n",
    "# z-score normalization\n",
    "train_mean = np.mean(X_train_raw, axis=0)\n",
    "train_std = np.std(X_train_raw, axis=0)\n",
    "X_train_zs = normalize(X_train_raw, train_mean, train_std).T\n",
    "X_val_zs = normalize(X_val_raw, train_mean, train_std).T\n",
    "X_test_zs = normalize(X_test_raw, train_mean, train_std).T\n",
    "\n",
    "# min-max normalization\n",
    "min_val = np.min(X_train_raw, axis=0)\n",
    "max_val = np.max(X_train_raw, axis=0)\n",
    "X_train_mm = ((X_train_raw - min_val) / (max_val - min_val)).T\n",
    "X_val_mm = ((X_val_raw - min_val) / (max_val - min_val)).T\n",
    "X_test_mm = ((X_test_raw - min_val) / (max_val - min_val)).T"
   ]
  },
  {
   "cell_type": "markdown",
   "metadata": {},
   "source": [
    "## Grid Search"
   ]
  },
  {
   "cell_type": "code",
   "execution_count": null,
   "metadata": {},
   "outputs": [],
   "source": [
    "# stop notebook caching\n",
    "%load_ext autoreload\n",
    "%autoreload 2\n",
    "\n",
    "import pandas as pd\n",
    "from neural_network import NeuralNetwork, Layer, ActivationFunction\n",
    "from utils import compute_accuracy\n",
    "\n",
    "def grid_search():\n",
    "    init_lr = [0.1, 0.05, 0.025]\n",
    "    lr_decay = ['exponential', 'step']\n",
    "    decay_k =[1/2, 1/4, 1/8]\n",
    "    weight_init = ['he-normal', 'he-uniform']\n",
    "    epochs = [25, 50, 75]\n",
    "    data = ['z-score', 'min-max']\n",
    "    \n",
    "    results = []\n",
    "    best_accuracy = 0\n",
    "    best_params = None\n",
    "\n",
    "    for ilr in init_lr:\n",
    "        for lrd in lr_decay:\n",
    "            for dk in decay_k:   \n",
    "                for wi in weight_init:\n",
    "                    for ep in epochs:\n",
    "                        for d in data:\n",
    "                            nn = NeuralNetwork(\n",
    "                                layers=[\n",
    "                                    Layer(ActivationFunction.relu, 12, input_dim=2),\n",
    "                                    Layer(ActivationFunction.relu, 8),\n",
    "                                    Layer(ActivationFunction.softmax, 3),\n",
    "                                ],\n",
    "                                weights_init=wi,\n",
    "                            )\n",
    "\n",
    "                            if d == 'z-score':\n",
    "                                train_losses, val_losses = nn.train(X_train_zs, y_train, lr_init=ilr, lr_decay=lrd, decay_k=dk, epochs=ep, X_val=X_val_zs, y_val=y_val)\n",
    "                                y_pred = nn.predict(X_val_zs)\n",
    "                            elif d == 'min-max':\n",
    "                                train_losses, val_losses = nn.train(X_train_mm, y_train, lr_init=ilr, lr_decay=lrd, decay_k=dk, epochs=ep, X_val=X_val_mm, y_val=y_val)\n",
    "                                y_pred = nn.predict(X_val_mm)\n",
    "\n",
    "                            acc = compute_accuracy(y_val, y_pred)\n",
    "\n",
    "                            results.append({\n",
    "                                'init_lr': ilr,\n",
    "                                'lr_decay': lrd,\n",
    "                                'decay_k': dk,\n",
    "                                'weight_init': wi,\n",
    "                                'epochs': ep,\n",
    "                                'data': d,\n",
    "                                'val_accuracy': acc\n",
    "                            })\n",
    "\n",
    "                            if acc > best_accuracy:\n",
    "                                best_accuracy = acc\n",
    "                                best_params = (ilr, lrd, dk, wi, ep, d)\n",
    "                                \n",
    "                            print(f\"Accuracy: {acc}, Params: {ilr, lrd, dk, wi, ep, d}\")\n",
    "\n",
    "    df_results = pd.DataFrame(results)\n",
    "    df_results.to_csv('grid_search_results.csv', index=False)\n",
    "    print(f\"\\nBest accuracy: {best_accuracy}\")\n",
    "    print(f\"Best params: {best_params}\")\n",
    "\n",
    "grid_search()"
   ]
  },
  {
   "cell_type": "markdown",
   "metadata": {},
   "source": [
    "## Best performing model"
   ]
  },
  {
   "cell_type": "code",
   "execution_count": null,
   "metadata": {},
   "outputs": [],
   "source": [
    "nn = NeuralNetwork(\n",
    "    layers=[\n",
    "        Layer(ActivationFunction.relu, 12, input_dim=2),\n",
    "        Layer(ActivationFunction.relu, 8),\n",
    "        Layer(ActivationFunction.softmax, 3),\n",
    "    ],\n",
    "    weights_init='he-uniform',\n",
    ")\n",
    "    \n",
    "train_losses, val_losses = nn.train(X_train_zs, y_train, lr_init=0.1, lr_decay='step', decay_k=1/2, epochs=75, X_val=X_val_zs, y_val=y_val)\n",
    "y_pred_val = nn.predict(X_val_zs)\n",
    "print(f\"Validation accuuracy {compute_accuracy(y_val, y_pred_val)}\")\n",
    "y_pred_test = nn.predict(X_test_zs)\n",
    "print(f\"Test accuracy {compute_accuracy(y_test, y_pred_test)}\")"
   ]
  },
  {
   "cell_type": "markdown",
   "metadata": {},
   "source": [
    "## Plot loss vs epochs"
   ]
  },
  {
   "cell_type": "code",
   "execution_count": null,
   "metadata": {},
   "outputs": [],
   "source": [
    "from matplotlib import pyplot as plt\n",
    "\n",
    "\n",
    "plt.figure(figsize=(6, 4))\n",
    "\n",
    "plt.plot(train_losses, label='Training Loss', color='blue', linewidth=2)\n",
    "plt.plot(val_losses, label='Validation Loss', color='orange', linewidth=2)\n",
    "\n",
    "plt.xlabel('Epochs', fontsize=12)\n",
    "plt.ylabel('Loss', fontsize=12)\n",
    "plt.title('Training and Validation Loss vs. Epochs', fontsize=14, pad=15)\n",
    "\n",
    "plt.legend(fontsize=12, loc='upper right')\n",
    "\n",
    "plt.grid(True, linestyle='--', alpha=0.7)\n",
    "plt.savefig('loss_plot.png', dpi=300, bbox_inches='tight')\n",
    "plt.tight_layout()\n",
    "plt.show()"
   ]
  },
  {
   "cell_type": "markdown",
   "metadata": {},
   "source": [
    "## Plot confusion matrix"
   ]
  },
  {
   "cell_type": "code",
   "execution_count": null,
   "metadata": {},
   "outputs": [],
   "source": [
    "import numpy as np\n",
    "import matplotlib.pyplot as plt\n",
    "\n",
    "confusion_matrix = y_test @ y_pred_test.T\n",
    "plt.figure(figsize=(6, 4))\n",
    "plt.imshow(confusion_matrix, cmap='Blues', interpolation='nearest')\n",
    "\n",
    "for i in range(3):\n",
    "    for j in range(3):\n",
    "        plt.text(j, i, str(int(confusion_matrix[i, j])), ha='center', va='center', color='black')\n",
    "\n",
    "plt.xticks(np.arange(3), ['A', 'B', 'C'])\n",
    "plt.yticks(np.arange(3), ['A', 'B', 'C'])\n",
    "plt.xlabel('Predicted label')\n",
    "plt.ylabel('True label')\n",
    "plt.title('Confusion Matrix')\n",
    "# plt.savefig('confusion_matrix.png', dpi=300, bbox_inches='tight')\n",
    "plt.show()"
   ]
  },
  {
   "cell_type": "markdown",
   "metadata": {},
   "source": [
    "## Plot classification results"
   ]
  },
  {
   "cell_type": "code",
   "execution_count": null,
   "metadata": {},
   "outputs": [],
   "source": [
    "import matplotlib.pyplot as plt\n",
    "import numpy as np\n",
    "\n",
    "plt.figure(figsize=(6, 4))\n",
    "true_class = np.argmax(y_test, axis=0)\n",
    "pred_class = np.argmax(y_pred_test, axis=0)\n",
    "\n",
    "colors = np.where(pred_class != true_class, 'red', 'blue')\n",
    "\n",
    "class_colors = ['green', 'orange', 'blue']\n",
    "\n",
    "for i, color in enumerate(class_colors):\n",
    "    class_indices = np.where(true_class == i)[0]\n",
    "    plt.scatter(X_test_zs[0, class_indices], X_test_zs[1, class_indices], color=color, label=f'Class {chr(65 + i)}')\n",
    "\n",
    "misclassified_indices = np.where(pred_class != true_class)[0]\n",
    "plt.scatter(X_test_zs[0, misclassified_indices], X_test_zs[1, misclassified_indices], color='red', label='Misclassified', edgecolor='black')\n",
    "\n",
    "plt.xlabel('Feature 1')\n",
    "plt.ylabel('Feature 2')\n",
    "plt.title('Classification Results')\n",
    "# plt.savefig('classification_results.png', dpi=300, bbox_inches='tight')\n",
    "plt.legend()\n",
    "plt.show()"
   ]
  }
 ],
 "metadata": {
  "kernelspec": {
   "display_name": "Python 3",
   "language": "python",
   "name": "python3"
  },
  "language_info": {
   "codemirror_mode": {
    "name": "ipython",
    "version": 3
   },
   "file_extension": ".py",
   "mimetype": "text/x-python",
   "name": "python",
   "nbconvert_exporter": "python",
   "pygments_lexer": "ipython3",
   "version": "3.9.6"
  }
 },
 "nbformat": 4,
 "nbformat_minor": 2
}
